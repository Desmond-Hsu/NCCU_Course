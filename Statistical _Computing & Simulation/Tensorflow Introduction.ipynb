{
 "cells": [
  {
   "cell_type": "code",
   "execution_count": 14,
   "metadata": {},
   "outputs": [],
   "source": [
    "#Reference : https://medium.com/datainpoint/tf101-constants-variables-and-placeholders-d36cf13d9e21"
   ]
  },
  {
   "cell_type": "code",
   "execution_count": 1,
   "metadata": {},
   "outputs": [
    {
     "name": "stderr",
     "output_type": "stream",
     "text": [
      "C:\\Programming\\Anaconda\\Jupyter\\lib\\site-packages\\h5py\\__init__.py:36: FutureWarning: Conversion of the second argument of issubdtype from `float` to `np.floating` is deprecated. In future, it will be treated as `np.float64 == np.dtype(float).type`.\n",
      "  from ._conv import register_converters as _register_converters\n"
     ]
    }
   ],
   "source": [
    "import tensorflow as tf\n",
    "sess=tf.Session()"
   ]
  },
  {
   "cell_type": "markdown",
   "metadata": {},
   "source": [
    "# 使用資料流圖形(Data Flow Graph)進行科學運算的開元框架\n",
    "### 由Google Brain團隊開發"
   ]
  },
  {
   "cell_type": "code",
   "execution_count": 2,
   "metadata": {},
   "outputs": [],
   "source": [
    "import numpy as np"
   ]
  },
  {
   "cell_type": "markdown",
   "metadata": {},
   "source": [
    "# < 一 > 基礎運算\n",
    "### Step : \n",
    "#### 1. 宣告張量為常數\n",
    "#### 2. 宣告數值運算的公式\n",
    "#### 3. 以Session執行數值運算"
   ]
  },
  {
   "cell_type": "code",
   "execution_count": 12,
   "metadata": {},
   "outputs": [
    {
     "name": "stdout",
     "output_type": "stream",
     "text": [
      "Tensor(\"Add_6:0\", shape=(), dtype=int32)\n",
      "15\n",
      "15\n"
     ]
    }
   ],
   "source": [
    "x = tf.constant(10)   \n",
    "y = tf.constant(5)\n",
    "\n",
    "tf_add = tf.add(x,y)    #tensorflow函數 : tf.add(), tf.sub(), tf.multiply(), tf.divide(), tf.pow(), tf.mod()\n",
    "tf_add2 = x+y                \n",
    "\n",
    "print(tf_add)           #顯示張量物件的資訊\n",
    "print(sess.run(tf_add))\n",
    "print(sess.run(tf_add2))"
   ]
  },
  {
   "cell_type": "markdown",
   "metadata": {},
   "source": [
    "# < 二 > 變數\n",
    "### 在一般程式設計中，不可能永遠只倚賴常數運算，為了保持彈性，tf宣告賦值給變數，能夠動態的進行運算得到不同結果\n",
    "### Step : \n",
    "#### 1. 宣告張量初始值、類型與外觀\n",
    "#### 2. 初始化變數張量"
   ]
  },
  {
   "cell_type": "code",
   "execution_count": null,
   "metadata": {},
   "outputs": [],
   "source": []
  },
  {
   "cell_type": "markdown",
   "metadata": {},
   "source": [
    "# < 三 > Placeholder\n",
    "### 常用作x與y資料預先設定的輸入張量\n"
   ]
  },
  {
   "cell_type": "code",
   "execution_count": null,
   "metadata": {},
   "outputs": [],
   "source": []
  }
 ],
 "metadata": {
  "kernelspec": {
   "display_name": "Python 3",
   "language": "python",
   "name": "python3"
  },
  "language_info": {
   "codemirror_mode": {
    "name": "ipython",
    "version": 3
   },
   "file_extension": ".py",
   "mimetype": "text/x-python",
   "name": "python",
   "nbconvert_exporter": "python",
   "pygments_lexer": "ipython3",
   "version": "3.6.5"
  }
 },
 "nbformat": 4,
 "nbformat_minor": 2
}
